{
 "cells": [
  {
   "cell_type": "code",
   "execution_count": 1,
   "id": "928e566b-0133-42ba-9d1c-776c47f9bbde",
   "metadata": {},
   "outputs": [
    {
     "name": "stdout",
     "output_type": "stream",
     "text": [
      "numpy: OK, version = 2.0.1\n",
      "pandas: OK, version = 2.3.2\n",
      "sklearn: OK, version = 1.7.2\n",
      "skfuzzy: OK, version = 0.5.0\n",
      "cv2: OK, version = 4.12.0\n",
      "matplotlib: OK, version = 3.10.6\n",
      "nltk: OK, version = 3.9.1\n",
      "Python: 3.10.18 | packaged by Anaconda, Inc. | (main, Jun  5 2025, 13:08:55) [MSC v.1929 64 bit (AMD64)]\n"
     ]
    }
   ],
   "source": [
    "import sys\n",
    "import importlib\n",
    "\n",
    "packages = [\"numpy\", \"pandas\", \"sklearn\", \"skfuzzy\", \"cv2\", \"matplotlib\", \"nltk\"]\n",
    "for pkg in packages:\n",
    "    try:\n",
    "        m = importlib.import_module(pkg)\n",
    "        print(f\"{pkg}: OK, version = {getattr(m, '__version__', 'unknown')}\")\n",
    "    except Exception as e:\n",
    "        print(f\"{pkg}: ERROR -> {e}\")\n",
    "\n",
    "print(\"Python:\", sys.version)"
   ]
  },
  {
   "cell_type": "code",
   "execution_count": null,
   "id": "ac9b7d3e-b551-4319-afdf-dc63bf21b8d9",
   "metadata": {},
   "outputs": [],
   "source": []
  }
 ],
 "metadata": {
  "kernelspec": {
   "display_name": "python (ai_env)",
   "language": "python",
   "name": "ai_env"
  },
  "language_info": {
   "codemirror_mode": {
    "name": "ipython",
    "version": 3
   },
   "file_extension": ".py",
   "mimetype": "text/x-python",
   "name": "python",
   "nbconvert_exporter": "python",
   "pygments_lexer": "ipython3",
   "version": "3.10.18"
  }
 },
 "nbformat": 4,
 "nbformat_minor": 5
}
